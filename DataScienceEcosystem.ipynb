{
  "nbformat": 4,
  "nbformat_minor": 0,
  "metadata": {
    "colab": {
      "provenance": []
    },
    "kernelspec": {
      "name": "python3",
      "display_name": "Python 3"
    },
    "language_info": {
      "name": "python"
    }
  },
  "cells": [
    {
      "cell_type": "markdown",
      "source": [
        "#Data Science Tools and Ecosystem\n",
        "\n",
        "This Notebook will help me explore some skills with notebooks."
      ],
      "metadata": {
        "id": "-UjokJOus15J"
      }
    },
    {
      "cell_type": "markdown",
      "source": [
        "**Objectives:**\n",
        "\n",
        "- List popular languages for Data Science\n",
        "- Introduce commonly used libraries in Data Science\n",
        "- Provide examples of arithmetic expressions in Python\n",
        "- Create tables and lists in markdown cells\n",
        "- Convert units of time (for example, minutes to hours)\n"
      ],
      "metadata": {
        "id": "ON3Y3k3J3M_-"
      }
    },
    {
      "cell_type": "markdown",
      "source": [
        "## Author\n",
        "Thalles Mota"
      ],
      "metadata": {
        "id": "oGDYacZF3mN6"
      }
    },
    {
      "cell_type": "markdown",
      "source": [
        "Some of the popular languages that Data Scientists use are:\n",
        "1. Python\n",
        "2. R\n",
        "3. SQL\n",
        "4. Julia"
      ],
      "metadata": {
        "id": "GgNpdgM2u3Dx"
      }
    },
    {
      "cell_type": "markdown",
      "source": [
        "Some of the commonly used libraries used by Data Scientists include:\n",
        "1. Pandas\n",
        "2. Matplotlib\n",
        "3. statsmodels\n",
        "4. sklearn\n"
      ],
      "metadata": {
        "id": "E5qHxXH0vdW3"
      }
    },
    {
      "cell_type": "markdown",
      "source": [
        "| Data Science Tools              |\n",
        "| ------------------------------- |\n",
        "| Jupyter Notebook                |\n",
        "| RStudio                         |\n",
        "| Guithub                         |\n"
      ],
      "metadata": {
        "id": "5ldmZwDxwthS"
      }
    },
    {
      "cell_type": "markdown",
      "source": [
        "### Below are a few examples of evaluating arithmetic expressions in Python\n",
        "\n",
        " 3 + 4 = 7\n",
        " 10 - 5 = 5\n",
        "\n"
      ],
      "metadata": {
        "id": "NHw5bjEdx0cf"
      }
    },
    {
      "cell_type": "code",
      "execution_count": 1,
      "metadata": {
        "colab": {
          "base_uri": "https://localhost:8080/"
        },
        "id": "pNwAxH6JscRA",
        "outputId": "476118e1-12e8-43b6-dbc0-530a398fc53c"
      },
      "outputs": [
        {
          "output_type": "execute_result",
          "data": {
            "text/plain": [
              "17"
            ]
          },
          "metadata": {},
          "execution_count": 1
        }
      ],
      "source": [
        "#This a simple arithmetic expression to mutiply then add integers\n",
        "\n",
        "(3*4)+5"
      ]
    },
    {
      "cell_type": "code",
      "source": [
        "#This will convert 200 minutes to hours by diving by 60\n",
        "200/60"
      ],
      "metadata": {
        "colab": {
          "base_uri": "https://localhost:8080/"
        },
        "id": "l845QanqzTUW",
        "outputId": "7d550a68-78c2-4f9c-fc29-5705f54fb99c"
      },
      "execution_count": 3,
      "outputs": [
        {
          "output_type": "execute_result",
          "data": {
            "text/plain": [
              "3.3333333333333335"
            ]
          },
          "metadata": {},
          "execution_count": 3
        }
      ]
    }
  ]
}